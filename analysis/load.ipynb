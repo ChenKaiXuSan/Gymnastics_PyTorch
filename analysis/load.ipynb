{
 "cells": [
  {
   "cell_type": "code",
   "execution_count": 3,
   "id": "143c3e0b",
   "metadata": {},
   "outputs": [],
   "source": [
    "# load pt "
   ]
  },
  {
   "cell_type": "code",
   "execution_count": 17,
   "id": "77614530",
   "metadata": {},
   "outputs": [
    {
     "data": {
      "text/plain": [
       "dict_keys(['optical_flow', 'depth', 'none_index', 'YOLO', 'detectron2', 'video_name', 'video_path', 'frame_count', 'img_shape', 'fps', 'duration', 'rotate_deg'])"
      ]
     },
     "execution_count": 17,
     "metadata": {},
     "output_type": "execute_result"
    }
   ],
   "source": [
    "import torch \n",
    "\n",
    "path = \"/workspace/data/pt/suwabe/IMG_2484.pt\"\n",
    "x = torch.load(path)\n",
    "x.keys()"
   ]
  },
  {
   "cell_type": "code",
   "execution_count": 19,
   "id": "c09c5405",
   "metadata": {},
   "outputs": [
    {
     "data": {
      "text/plain": [
       "dict_keys(['optical_flow', 'depth', 'none_index', 'YOLO', 'detectron2', 'video_name', 'video_path', 'frame_count', 'img_shape', 'fps', 'duration', 'rotate_deg'])"
      ]
     },
     "execution_count": 19,
     "metadata": {},
     "output_type": "execute_result"
    }
   ],
   "source": [
    "x.keys()"
   ]
  },
  {
   "cell_type": "code",
   "execution_count": 20,
   "id": "2da5bb0b",
   "metadata": {},
   "outputs": [
    {
     "data": {
      "text/plain": [
       "torch.Size([0])"
      ]
     },
     "execution_count": 20,
     "metadata": {},
     "output_type": "execute_result"
    }
   ],
   "source": [
    "x['optical_flow'].shape"
   ]
  },
  {
   "cell_type": "code",
   "execution_count": 21,
   "id": "18c77bcf",
   "metadata": {},
   "outputs": [
    {
     "data": {
      "text/plain": [
       "dict_keys(['bbox', 'mask', 'keypoints', 'keypoints_score'])"
      ]
     },
     "execution_count": 21,
     "metadata": {},
     "output_type": "execute_result"
    }
   ],
   "source": [
    "x[\"YOLO\"].keys()"
   ]
  },
  {
   "cell_type": "code",
   "execution_count": 29,
   "id": "b78cd9ea",
   "metadata": {},
   "outputs": [
    {
     "data": {
      "text/plain": [
       "torch.Size([1228, 17])"
      ]
     },
     "execution_count": 29,
     "metadata": {},
     "output_type": "execute_result"
    }
   ],
   "source": [
    "x[\"YOLO\"]['keypoints'].shape\n",
    "x[\"YOLO\"]['keypoints_score'].shape"
   ]
  },
  {
   "cell_type": "code",
   "execution_count": 28,
   "id": "f4437afd",
   "metadata": {},
   "outputs": [
    {
     "data": {
      "text/plain": [
       "torch.Size([0])"
      ]
     },
     "execution_count": 28,
     "metadata": {},
     "output_type": "execute_result"
    }
   ],
   "source": [
    "x['detectron2'].keys()\n",
    "x['detectron2']['keypoints'].shape\n"
   ]
  },
  {
   "cell_type": "code",
   "execution_count": 9,
   "id": "752ac3f9",
   "metadata": {},
   "outputs": [
    {
     "data": {
      "text/plain": [
       "KeysView(NpzFile '/workspace/data/npz/raw/suwabe/3-4/3.npz' with keys: boxes, segments, keypoints, metadata)"
      ]
     },
     "execution_count": 9,
     "metadata": {},
     "output_type": "execute_result"
    }
   ],
   "source": [
    "# load npz \n",
    "import numpy as np\n",
    "\n",
    "path = \"/workspace/data/npz/raw/suwabe/3-4/3.npz\"\n",
    "x = np.load(path, allow_pickle=True)\n",
    "x.keys()"
   ]
  },
  {
   "cell_type": "code",
   "execution_count": 10,
   "id": "f2184bdf",
   "metadata": {},
   "outputs": [
    {
     "data": {
      "text/plain": [
       "(1273, 1, 5)"
      ]
     },
     "execution_count": 10,
     "metadata": {},
     "output_type": "execute_result"
    }
   ],
   "source": [
    "x['boxes'].shape"
   ]
  },
  {
   "cell_type": "code",
   "execution_count": 11,
   "id": "be5158ad",
   "metadata": {},
   "outputs": [
    {
     "data": {
      "text/plain": [
       "(1273, 1, 4, 17)"
      ]
     },
     "execution_count": 11,
     "metadata": {},
     "output_type": "execute_result"
    }
   ],
   "source": [
    "x['keypoints'].shape"
   ]
  },
  {
   "cell_type": "code",
   "execution_count": 12,
   "id": "3ebebfcb",
   "metadata": {},
   "outputs": [
    {
     "ename": "KeyError",
     "evalue": "'positions_2d is not a file in the archive'",
     "output_type": "error",
     "traceback": [
      "\u001b[0;31m---------------------------------------------------------------------------\u001b[0m",
      "\u001b[0;31mKeyError\u001b[0m                                  Traceback (most recent call last)",
      "Cell \u001b[0;32mIn[12], line 1\u001b[0m\n\u001b[0;32m----> 1\u001b[0m \u001b[43mx\u001b[49m\u001b[43m[\u001b[49m\u001b[38;5;124;43m'\u001b[39;49m\u001b[38;5;124;43mpositions_2d\u001b[39;49m\u001b[38;5;124;43m'\u001b[39;49m\u001b[43m]\u001b[49m\u001b[38;5;241m.\u001b[39mshape\n",
      "File \u001b[0;32m/opt/conda/lib/python3.10/site-packages/numpy/lib/npyio.py:263\u001b[0m, in \u001b[0;36mNpzFile.__getitem__\u001b[0;34m(self, key)\u001b[0m\n\u001b[1;32m    261\u001b[0m         \u001b[38;5;28;01mreturn\u001b[39;00m \u001b[38;5;28mself\u001b[39m\u001b[38;5;241m.\u001b[39mzip\u001b[38;5;241m.\u001b[39mread(key)\n\u001b[1;32m    262\u001b[0m \u001b[38;5;28;01melse\u001b[39;00m:\n\u001b[0;32m--> 263\u001b[0m     \u001b[38;5;28;01mraise\u001b[39;00m \u001b[38;5;167;01mKeyError\u001b[39;00m(\u001b[38;5;124mf\u001b[39m\u001b[38;5;124m\"\u001b[39m\u001b[38;5;132;01m{\u001b[39;00mkey\u001b[38;5;132;01m}\u001b[39;00m\u001b[38;5;124m is not a file in the archive\u001b[39m\u001b[38;5;124m\"\u001b[39m)\n",
      "\u001b[0;31mKeyError\u001b[0m: 'positions_2d is not a file in the archive'"
     ]
    }
   ],
   "source": [
    "x['positions_2d'].shape"
   ]
  },
  {
   "cell_type": "code",
   "execution_count": null,
   "id": "ed7e0f72",
   "metadata": {},
   "outputs": [],
   "source": []
  }
 ],
 "metadata": {
  "kernelspec": {
   "display_name": "base",
   "language": "python",
   "name": "python3"
  },
  "language_info": {
   "codemirror_mode": {
    "name": "ipython",
    "version": 3
   },
   "file_extension": ".py",
   "mimetype": "text/x-python",
   "name": "python",
   "nbconvert_exporter": "python",
   "pygments_lexer": "ipython3",
   "version": "3.10.13"
  }
 },
 "nbformat": 4,
 "nbformat_minor": 5
}
