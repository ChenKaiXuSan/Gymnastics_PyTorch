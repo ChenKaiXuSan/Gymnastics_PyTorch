{
 "cells": [
  {
   "cell_type": "code",
   "execution_count": 10,
   "id": "77614530",
   "metadata": {},
   "outputs": [
    {
     "data": {
      "text/plain": [
       "dict_keys(['optical_flow', 'depth', 'none_index', 'YOLO', 'detectron2', 'video_name', 'video_path', 'frame_count', 'img_shape', 'fps', 'duration', 'rotate_deg'])"
      ]
     },
     "execution_count": 10,
     "metadata": {},
     "output_type": "execute_result"
    }
   ],
   "source": [
    "# load pt \n",
    "import torch \n",
    "\n",
    "path = \"/workspace/data/pt/suwabe/IMG_2486.pt\"\n",
    "pt_info = torch.load(path)\n",
    "pt_info.keys()"
   ]
  },
  {
   "cell_type": "code",
   "execution_count": 11,
   "id": "c09c5405",
   "metadata": {},
   "outputs": [
    {
     "data": {
      "text/plain": [
       "dict_keys(['optical_flow', 'depth', 'none_index', 'YOLO', 'detectron2', 'video_name', 'video_path', 'frame_count', 'img_shape', 'fps', 'duration', 'rotate_deg'])"
      ]
     },
     "execution_count": 11,
     "metadata": {},
     "output_type": "execute_result"
    }
   ],
   "source": [
    "pt_info.keys()"
   ]
  },
  {
   "cell_type": "code",
   "execution_count": 12,
   "id": "2da5bb0b",
   "metadata": {},
   "outputs": [
    {
     "data": {
      "text/plain": [
       "torch.Size([0])"
      ]
     },
     "execution_count": 12,
     "metadata": {},
     "output_type": "execute_result"
    }
   ],
   "source": [
    "pt_info['optical_flow'].shape"
   ]
  },
  {
   "cell_type": "code",
   "execution_count": 13,
   "id": "18c77bcf",
   "metadata": {},
   "outputs": [
    {
     "data": {
      "text/plain": [
       "dict_keys(['bbox', 'mask', 'keypoints', 'keypoints_score'])"
      ]
     },
     "execution_count": 13,
     "metadata": {},
     "output_type": "execute_result"
    }
   ],
   "source": [
    "pt_info[\"YOLO\"].keys()"
   ]
  },
  {
   "cell_type": "code",
   "execution_count": 14,
   "id": "b78cd9ea",
   "metadata": {},
   "outputs": [
    {
     "data": {
      "text/plain": [
       "torch.Size([1307, 17])"
      ]
     },
     "execution_count": 14,
     "metadata": {},
     "output_type": "execute_result"
    }
   ],
   "source": [
    "pt_info[\"YOLO\"]['keypoints'].shape\n",
    "pt_info[\"YOLO\"]['keypoints_score'].shape"
   ]
  },
  {
   "cell_type": "code",
   "execution_count": 15,
   "id": "f4437afd",
   "metadata": {},
   "outputs": [
    {
     "data": {
      "text/plain": [
       "torch.Size([1307, 17, 2])"
      ]
     },
     "execution_count": 15,
     "metadata": {},
     "output_type": "execute_result"
    }
   ],
   "source": [
    "pt_info['detectron2'].keys()\n",
    "pt_info['detectron2']['keypoints'].shape\n"
   ]
  },
  {
   "cell_type": "code",
   "execution_count": 16,
   "id": "752ac3f9",
   "metadata": {},
   "outputs": [
    {
     "data": {
      "text/plain": [
       "KeysView(NpzFile '/workspace/data/npz/raw/suwabe/3-4/3.npz' with keys: boxes, segments, keypoints, metadata)"
      ]
     },
     "execution_count": 16,
     "metadata": {},
     "output_type": "execute_result"
    }
   ],
   "source": [
    "# load npz \n",
    "import numpy as np\n",
    "\n",
    "path = \"/workspace/data/npz/raw/suwabe/3-4/3.npz\"\n",
    "npz_info = np.load(path, allow_pickle=True)\n",
    "npz_info.keys()"
   ]
  },
  {
   "cell_type": "code",
   "execution_count": 17,
   "id": "f2184bdf",
   "metadata": {},
   "outputs": [
    {
     "data": {
      "text/plain": [
       "(1273, 1, 5)"
      ]
     },
     "execution_count": 17,
     "metadata": {},
     "output_type": "execute_result"
    }
   ],
   "source": [
    "npz_info['boxes'].shape"
   ]
  },
  {
   "cell_type": "code",
   "execution_count": 18,
   "id": "be5158ad",
   "metadata": {},
   "outputs": [
    {
     "data": {
      "text/plain": [
       "(1273, 1, 4, 17)"
      ]
     },
     "execution_count": 18,
     "metadata": {},
     "output_type": "execute_result"
    }
   ],
   "source": [
    "npz_info['keypoints'].shape"
   ]
  }
 ],
 "metadata": {
  "kernelspec": {
   "display_name": "base",
   "language": "python",
   "name": "python3"
  },
  "language_info": {
   "codemirror_mode": {
    "name": "ipython",
    "version": 3
   },
   "file_extension": ".py",
   "mimetype": "text/x-python",
   "name": "python",
   "nbconvert_exporter": "python",
   "pygments_lexer": "ipython3",
   "version": "3.10.13"
  }
 },
 "nbformat": 4,
 "nbformat_minor": 5
}
