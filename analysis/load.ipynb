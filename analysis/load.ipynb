{
 "cells": [
  {
   "cell_type": "code",
   "execution_count": 70,
   "id": "77614530",
   "metadata": {},
   "outputs": [
    {
     "data": {
      "text/plain": [
       "dict_keys(['optical_flow', 'depth', 'none_index', 'YOLO', 'detectron2', 'video_name', 'video_path', 'frame_count', 'img_shape', 'fps', 'duration', 'rotate_deg'])"
      ]
     },
     "execution_count": 70,
     "metadata": {},
     "output_type": "execute_result"
    }
   ],
   "source": [
    "# load pt \n",
    "import torch \n",
    "\n",
    "path = \"/workspace/data/npz/raw/suwabe/3-4/3.pt\"\n",
    "pt_info = torch.load(path)\n",
    "pt_info.keys()"
   ]
  },
  {
   "cell_type": "code",
   "execution_count": 71,
   "id": "c09c5405",
   "metadata": {},
   "outputs": [
    {
     "data": {
      "text/plain": [
       "dict_keys(['optical_flow', 'depth', 'none_index', 'YOLO', 'detectron2', 'video_name', 'video_path', 'frame_count', 'img_shape', 'fps', 'duration', 'rotate_deg'])"
      ]
     },
     "execution_count": 71,
     "metadata": {},
     "output_type": "execute_result"
    }
   ],
   "source": [
    "pt_info.keys()"
   ]
  },
  {
   "cell_type": "code",
   "execution_count": 72,
   "id": "2da5bb0b",
   "metadata": {},
   "outputs": [
    {
     "name": "stdout",
     "output_type": "stream",
     "text": [
      "torch.Size([1272, 2, 1920, 1080])\n",
      "torch.Size([1273, 1, 1920, 1080])\n",
      "[]\n",
      "IMG_2338\n",
      "/workspace/data/raw/suwabe/3-4/IMG_2338.MOV\n",
      "1273\n",
      "(1920, 1080)\n",
      "59.92938407218517\n",
      "0.0\n",
      "-90\n"
     ]
    }
   ],
   "source": [
    "print(pt_info['optical_flow'].shape)\n",
    "print(pt_info['depth'].shape)\n",
    "print(pt_info['none_index'])\n",
    "print(pt_info['video_name'])\n",
    "print(pt_info['video_path'])\n",
    "print(pt_info['frame_count'])\n",
    "print(pt_info['img_shape'])  \n",
    "print(pt_info['fps'])\n",
    "print(pt_info['duration'])\n",
    "print(pt_info['rotate_deg'])\n"
   ]
  },
  {
   "cell_type": "code",
   "execution_count": 73,
   "id": "18c77bcf",
   "metadata": {},
   "outputs": [
    {
     "name": "stdout",
     "output_type": "stream",
     "text": [
      "dict_keys(['bbox', 'mask', 'keypoints', 'keypoints_score'])\n",
      "torch.Size([1273, 4])\n",
      "torch.Size([1273, 1, 1920, 1080])\n",
      "torch.Size([1273, 17, 2])\n",
      "torch.Size([1273, 17])\n"
     ]
    }
   ],
   "source": [
    "print(pt_info[\"YOLO\"].keys())\n",
    "\n",
    "print(pt_info[\"YOLO\"]['bbox'].shape)\n",
    "print(pt_info[\"YOLO\"]['mask'].shape)\n",
    "print(pt_info[\"YOLO\"]['keypoints'].shape)\n",
    "print(pt_info[\"YOLO\"]['keypoints_score'].shape)"
   ]
  },
  {
   "cell_type": "code",
   "execution_count": 74,
   "id": "f4437afd",
   "metadata": {},
   "outputs": [
    {
     "name": "stdout",
     "output_type": "stream",
     "text": [
      "dict_keys(['bbox', 'keypoints', 'keypoints_score'])\n",
      "torch.Size([0])\n",
      "torch.Size([0])\n",
      "torch.Size([0])\n"
     ]
    }
   ],
   "source": [
    "print(pt_info['detectron2'].keys())\n",
    "print(pt_info['detectron2']['bbox'].shape)\n",
    "print(pt_info['detectron2']['keypoints'].shape)\n",
    "print(pt_info['detectron2']['keypoints_score'].shape)\n"
   ]
  },
  {
   "cell_type": "code",
   "execution_count": 75,
   "id": "752ac3f9",
   "metadata": {},
   "outputs": [
    {
     "data": {
      "text/plain": [
       "KeysView(NpzFile '/workspace/data/npz/raw/suwabe/3-4/3.npz' with keys: boxes, segments, keypoints, metadata)"
      ]
     },
     "execution_count": 75,
     "metadata": {},
     "output_type": "execute_result"
    }
   ],
   "source": [
    "# load npz \n",
    "import numpy as np\n",
    "\n",
    "path = \"/workspace/data/npz/raw/suwabe/3-4/3.npz\"\n",
    "npz_info = np.load(path, allow_pickle=True)\n",
    "npz_info.keys()"
   ]
  },
  {
   "cell_type": "code",
   "execution_count": 76,
   "id": "f2184bdf",
   "metadata": {},
   "outputs": [
    {
     "data": {
      "text/plain": [
       "(1273, 1, 5)"
      ]
     },
     "execution_count": 76,
     "metadata": {},
     "output_type": "execute_result"
    }
   ],
   "source": [
    "npz_info['boxes'].shape"
   ]
  },
  {
   "cell_type": "code",
   "execution_count": 77,
   "id": "be5158ad",
   "metadata": {},
   "outputs": [
    {
     "data": {
      "text/plain": [
       "(1273, 1, 4, 17)"
      ]
     },
     "execution_count": 77,
     "metadata": {},
     "output_type": "execute_result"
    }
   ],
   "source": [
    "npz_info['keypoints'].shape"
   ]
  }
 ],
 "metadata": {
  "kernelspec": {
   "display_name": "base",
   "language": "python",
   "name": "python3"
  },
  "language_info": {
   "codemirror_mode": {
    "name": "ipython",
    "version": 3
   },
   "file_extension": ".py",
   "mimetype": "text/x-python",
   "name": "python",
   "nbconvert_exporter": "python",
   "pygments_lexer": "ipython3",
   "version": "3.10.13"
  }
 },
 "nbformat": 4,
 "nbformat_minor": 5
}
