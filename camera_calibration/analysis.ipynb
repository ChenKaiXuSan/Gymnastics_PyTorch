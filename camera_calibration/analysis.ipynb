{
 "cells": [
  {
   "cell_type": "code",
   "execution_count": 1,
   "id": "4b45252d",
   "metadata": {},
   "outputs": [],
   "source": [
    "import numpy as np \n",
    "\n",
    "path = '/workspace/code/logs/camera_calibration/calibration_results/IMG_2420_calibration.npz'\n",
    "\n",
    "with np.load(path) as data:\n",
    "    camera_matrix = data['camera_matrix']\n",
    "    dist_coeffs = data['dist_coeffs']\n",
    "    rvecs = data['rvecs']\n",
    "    tvecs = data['tvecs']"
   ]
  },
  {
   "cell_type": "code",
   "execution_count": 3,
   "id": "e649de74",
   "metadata": {},
   "outputs": [
    {
     "name": "stdout",
     "output_type": "stream",
     "text": [
      "Camera Matrix:\n",
      " [[1.53905292e+03 0.00000000e+00 8.67619960e+02]\n",
      " [0.00000000e+00 1.54153123e+03 5.72745232e+02]\n",
      " [0.00000000e+00 0.00000000e+00 1.00000000e+00]]\n",
      "Distortion Coefficients:\n",
      " [[ 7.23957018e-01 -8.84588782e+00 -2.97548953e-02 -6.41384470e-02\n",
      "   3.67318161e+01]]\n"
     ]
    }
   ],
   "source": [
    "print(\"Camera Matrix:\\n\", camera_matrix)\n",
    "print(\"Distortion Coefficients:\\n\", dist_coeffs)"
   ]
  }
 ],
 "metadata": {
  "kernelspec": {
   "display_name": "base",
   "language": "python",
   "name": "python3"
  },
  "language_info": {
   "codemirror_mode": {
    "name": "ipython",
    "version": 3
   },
   "file_extension": ".py",
   "mimetype": "text/x-python",
   "name": "python",
   "nbconvert_exporter": "python",
   "pygments_lexer": "ipython3",
   "version": "3.10.13"
  }
 },
 "nbformat": 4,
 "nbformat_minor": 5
}
